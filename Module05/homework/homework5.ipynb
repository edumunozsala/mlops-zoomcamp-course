{
 "cells": [
  {
   "cell_type": "markdown",
   "id": "b558d511-037d-466c-9134-0a690d5ad490",
   "metadata": {},
   "source": [
    "# Homework 1 Notebook\n",
    "\n",
    "You can follow the `homework.md` file to get the answer and the code used to calculate them are included in this notebook"
   ]
  },
  {
   "cell_type": "code",
   "execution_count": 3,
   "id": "4b3fb37c-a6fc-4a42-b312-aed230e9cf22",
   "metadata": {},
   "outputs": [],
   "source": [
    "import requests\n",
    "import datetime\n",
    "import pandas as pd\n",
    "import os\n",
    "\n",
    "from evidently import ColumnMapping\n",
    "from evidently.report import Report\n",
    "from evidently.metrics import ColumnDriftMetric, DatasetDriftMetric, DatasetMissingValuesMetric, DatasetCorrelationsMetric, ColumnQuantileMetric\n",
    "\n",
    "from joblib import load, dump\n",
    "from tqdm import tqdm\n",
    "\n",
    "from sklearn.linear_model import LinearRegression\n",
    "from sklearn.metrics import mean_absolute_error, mean_absolute_percentage_error"
   ]
  },
  {
   "cell_type": "markdown",
   "id": "2fd4e293-94da-4195-8999-87ecf27f870a",
   "metadata": {},
   "source": [
    "We download data from March 2024"
   ]
  },
  {
   "cell_type": "code",
   "execution_count": 6,
   "id": "05dae373-8a96-46a5-b56c-11d04de6004c",
   "metadata": {},
   "outputs": [
    {
     "name": "stdout",
     "output_type": "stream",
     "text": [
      "Download files:\n"
     ]
    },
    {
     "name": "stderr",
     "output_type": "stream",
     "text": [
      "green_tripdata_2024-03.parquet: 100%|███████████████████████████████████████████████████████████████████████████████████████████████████████████████████████| 1372372/1372372 [00:09<00:00, 152109.32it/s, save to ./data/green_tripdata_2024-03.parquet]\n"
     ]
    }
   ],
   "source": [
    "\n",
    "files = [('green_tripdata_2024-03.parquet', './data')]\n",
    "\n",
    "# Create the data directory\n",
    "os.makedirs('./data', exist_ok=True)\n",
    "\n",
    "print(\"Download files:\")\n",
    "for file, path in files:\n",
    "    url=f\"https://d37ci6vzurychx.cloudfront.net/trip-data/{file}\"\n",
    "    resp=requests.get(url, stream=True)\n",
    "    save_path=f\"{path}/{file}\"\n",
    "    with open(save_path, \"wb\") as handle:\n",
    "        for data in tqdm(resp.iter_content(),\n",
    "                        desc=f\"{file}\",\n",
    "                        postfix=f\"save to {save_path}\",\n",
    "                        total=int(resp.headers[\"Content-Length\"])):\n",
    "            handle.write(data)"
   ]
  },
  {
   "cell_type": "code",
   "execution_count": 7,
   "id": "a3720a70-2858-45cd-a6d6-be47cdf61725",
   "metadata": {},
   "outputs": [],
   "source": [
    "march_data = pd.read_parquet('data/green_tripdata_2024-03.parquet')"
   ]
  },
  {
   "cell_type": "code",
   "execution_count": 8,
   "id": "869f333b-38c8-4d68-87b9-c1cf4dcc2dce",
   "metadata": {},
   "outputs": [
    {
     "data": {
      "text/html": [
       "<div>\n",
       "<style scoped>\n",
       "    .dataframe tbody tr th:only-of-type {\n",
       "        vertical-align: middle;\n",
       "    }\n",
       "\n",
       "    .dataframe tbody tr th {\n",
       "        vertical-align: top;\n",
       "    }\n",
       "\n",
       "    .dataframe thead th {\n",
       "        text-align: right;\n",
       "    }\n",
       "</style>\n",
       "<table border=\"1\" class=\"dataframe\">\n",
       "  <thead>\n",
       "    <tr style=\"text-align: right;\">\n",
       "      <th></th>\n",
       "      <th>VendorID</th>\n",
       "      <th>lpep_pickup_datetime</th>\n",
       "      <th>lpep_dropoff_datetime</th>\n",
       "      <th>RatecodeID</th>\n",
       "      <th>PULocationID</th>\n",
       "      <th>DOLocationID</th>\n",
       "      <th>passenger_count</th>\n",
       "      <th>trip_distance</th>\n",
       "      <th>fare_amount</th>\n",
       "      <th>extra</th>\n",
       "      <th>mta_tax</th>\n",
       "      <th>tip_amount</th>\n",
       "      <th>tolls_amount</th>\n",
       "      <th>ehail_fee</th>\n",
       "      <th>improvement_surcharge</th>\n",
       "      <th>total_amount</th>\n",
       "      <th>payment_type</th>\n",
       "      <th>trip_type</th>\n",
       "      <th>congestion_surcharge</th>\n",
       "    </tr>\n",
       "  </thead>\n",
       "  <tbody>\n",
       "    <tr>\n",
       "      <th>count</th>\n",
       "      <td>57457.000000</td>\n",
       "      <td>57457</td>\n",
       "      <td>57457</td>\n",
       "      <td>55360.000000</td>\n",
       "      <td>57457.000000</td>\n",
       "      <td>57457.000000</td>\n",
       "      <td>55360.000000</td>\n",
       "      <td>57457.000000</td>\n",
       "      <td>57457.000000</td>\n",
       "      <td>57457.000000</td>\n",
       "      <td>57457.000000</td>\n",
       "      <td>57457.000000</td>\n",
       "      <td>57457.000000</td>\n",
       "      <td>0.0</td>\n",
       "      <td>57457.000000</td>\n",
       "      <td>57457.000000</td>\n",
       "      <td>55360.000000</td>\n",
       "      <td>55353.000000</td>\n",
       "      <td>55360.000000</td>\n",
       "    </tr>\n",
       "    <tr>\n",
       "      <th>mean</th>\n",
       "      <td>1.877334</td>\n",
       "      <td>2024-03-16 04:02:52.405399</td>\n",
       "      <td>2024-03-16 04:21:00.076039</td>\n",
       "      <td>1.179986</td>\n",
       "      <td>95.524688</td>\n",
       "      <td>138.629149</td>\n",
       "      <td>1.309538</td>\n",
       "      <td>13.522828</td>\n",
       "      <td>17.313474</td>\n",
       "      <td>0.904472</td>\n",
       "      <td>0.577410</td>\n",
       "      <td>2.386255</td>\n",
       "      <td>0.192537</td>\n",
       "      <td>NaN</td>\n",
       "      <td>0.979378</td>\n",
       "      <td>22.904832</td>\n",
       "      <td>1.321062</td>\n",
       "      <td>1.038047</td>\n",
       "      <td>0.737730</td>\n",
       "    </tr>\n",
       "    <tr>\n",
       "      <th>min</th>\n",
       "      <td>1.000000</td>\n",
       "      <td>2008-12-31 23:02:24</td>\n",
       "      <td>2008-12-31 23:02:30</td>\n",
       "      <td>1.000000</td>\n",
       "      <td>1.000000</td>\n",
       "      <td>1.000000</td>\n",
       "      <td>0.000000</td>\n",
       "      <td>0.000000</td>\n",
       "      <td>-295.080000</td>\n",
       "      <td>-2.500000</td>\n",
       "      <td>-0.500000</td>\n",
       "      <td>-1.560000</td>\n",
       "      <td>0.000000</td>\n",
       "      <td>NaN</td>\n",
       "      <td>-1.000000</td>\n",
       "      <td>-296.080000</td>\n",
       "      <td>1.000000</td>\n",
       "      <td>1.000000</td>\n",
       "      <td>-2.750000</td>\n",
       "    </tr>\n",
       "    <tr>\n",
       "      <th>25%</th>\n",
       "      <td>2.000000</td>\n",
       "      <td>2024-03-08 13:53:56</td>\n",
       "      <td>2024-03-08 14:13:49</td>\n",
       "      <td>1.000000</td>\n",
       "      <td>74.000000</td>\n",
       "      <td>74.000000</td>\n",
       "      <td>1.000000</td>\n",
       "      <td>1.100000</td>\n",
       "      <td>9.300000</td>\n",
       "      <td>0.000000</td>\n",
       "      <td>0.500000</td>\n",
       "      <td>0.000000</td>\n",
       "      <td>0.000000</td>\n",
       "      <td>NaN</td>\n",
       "      <td>1.000000</td>\n",
       "      <td>13.440000</td>\n",
       "      <td>1.000000</td>\n",
       "      <td>1.000000</td>\n",
       "      <td>0.000000</td>\n",
       "    </tr>\n",
       "    <tr>\n",
       "      <th>50%</th>\n",
       "      <td>2.000000</td>\n",
       "      <td>2024-03-15 22:49:01</td>\n",
       "      <td>2024-03-15 23:09:52</td>\n",
       "      <td>1.000000</td>\n",
       "      <td>75.000000</td>\n",
       "      <td>138.000000</td>\n",
       "      <td>1.000000</td>\n",
       "      <td>1.790000</td>\n",
       "      <td>13.500000</td>\n",
       "      <td>0.000000</td>\n",
       "      <td>0.500000</td>\n",
       "      <td>2.000000</td>\n",
       "      <td>0.000000</td>\n",
       "      <td>NaN</td>\n",
       "      <td>1.000000</td>\n",
       "      <td>18.500000</td>\n",
       "      <td>1.000000</td>\n",
       "      <td>1.000000</td>\n",
       "      <td>0.000000</td>\n",
       "    </tr>\n",
       "    <tr>\n",
       "      <th>75%</th>\n",
       "      <td>2.000000</td>\n",
       "      <td>2024-03-23 20:11:25</td>\n",
       "      <td>2024-03-23 20:34:48</td>\n",
       "      <td>1.000000</td>\n",
       "      <td>97.000000</td>\n",
       "      <td>220.000000</td>\n",
       "      <td>1.000000</td>\n",
       "      <td>3.100000</td>\n",
       "      <td>19.800000</td>\n",
       "      <td>1.000000</td>\n",
       "      <td>0.500000</td>\n",
       "      <td>3.610000</td>\n",
       "      <td>0.000000</td>\n",
       "      <td>NaN</td>\n",
       "      <td>1.000000</td>\n",
       "      <td>27.050000</td>\n",
       "      <td>2.000000</td>\n",
       "      <td>1.000000</td>\n",
       "      <td>2.750000</td>\n",
       "    </tr>\n",
       "    <tr>\n",
       "      <th>max</th>\n",
       "      <td>2.000000</td>\n",
       "      <td>2024-04-01 00:01:45</td>\n",
       "      <td>2024-04-01 16:11:00</td>\n",
       "      <td>99.000000</td>\n",
       "      <td>265.000000</td>\n",
       "      <td>265.000000</td>\n",
       "      <td>9.000000</td>\n",
       "      <td>125112.200000</td>\n",
       "      <td>841.600000</td>\n",
       "      <td>10.000000</td>\n",
       "      <td>4.250000</td>\n",
       "      <td>150.000000</td>\n",
       "      <td>26.760000</td>\n",
       "      <td>NaN</td>\n",
       "      <td>1.000000</td>\n",
       "      <td>856.980000</td>\n",
       "      <td>5.000000</td>\n",
       "      <td>2.000000</td>\n",
       "      <td>2.750000</td>\n",
       "    </tr>\n",
       "    <tr>\n",
       "      <th>std</th>\n",
       "      <td>0.328056</td>\n",
       "      <td>NaN</td>\n",
       "      <td>NaN</td>\n",
       "      <td>1.356719</td>\n",
       "      <td>57.285088</td>\n",
       "      <td>76.295346</td>\n",
       "      <td>0.967749</td>\n",
       "      <td>770.416255</td>\n",
       "      <td>14.958249</td>\n",
       "      <td>1.382446</td>\n",
       "      <td>0.366916</td>\n",
       "      <td>3.159273</td>\n",
       "      <td>1.184551</td>\n",
       "      <td>NaN</td>\n",
       "      <td>0.154253</td>\n",
       "      <td>17.013735</td>\n",
       "      <td>0.497858</td>\n",
       "      <td>0.191311</td>\n",
       "      <td>1.218039</td>\n",
       "    </tr>\n",
       "  </tbody>\n",
       "</table>\n",
       "</div>"
      ],
      "text/plain": [
       "           VendorID        lpep_pickup_datetime       lpep_dropoff_datetime  \\\n",
       "count  57457.000000                       57457                       57457   \n",
       "mean       1.877334  2024-03-16 04:02:52.405399  2024-03-16 04:21:00.076039   \n",
       "min        1.000000         2008-12-31 23:02:24         2008-12-31 23:02:30   \n",
       "25%        2.000000         2024-03-08 13:53:56         2024-03-08 14:13:49   \n",
       "50%        2.000000         2024-03-15 22:49:01         2024-03-15 23:09:52   \n",
       "75%        2.000000         2024-03-23 20:11:25         2024-03-23 20:34:48   \n",
       "max        2.000000         2024-04-01 00:01:45         2024-04-01 16:11:00   \n",
       "std        0.328056                         NaN                         NaN   \n",
       "\n",
       "         RatecodeID  PULocationID  DOLocationID  passenger_count  \\\n",
       "count  55360.000000  57457.000000  57457.000000     55360.000000   \n",
       "mean       1.179986     95.524688    138.629149         1.309538   \n",
       "min        1.000000      1.000000      1.000000         0.000000   \n",
       "25%        1.000000     74.000000     74.000000         1.000000   \n",
       "50%        1.000000     75.000000    138.000000         1.000000   \n",
       "75%        1.000000     97.000000    220.000000         1.000000   \n",
       "max       99.000000    265.000000    265.000000         9.000000   \n",
       "std        1.356719     57.285088     76.295346         0.967749   \n",
       "\n",
       "       trip_distance   fare_amount         extra       mta_tax    tip_amount  \\\n",
       "count   57457.000000  57457.000000  57457.000000  57457.000000  57457.000000   \n",
       "mean       13.522828     17.313474      0.904472      0.577410      2.386255   \n",
       "min         0.000000   -295.080000     -2.500000     -0.500000     -1.560000   \n",
       "25%         1.100000      9.300000      0.000000      0.500000      0.000000   \n",
       "50%         1.790000     13.500000      0.000000      0.500000      2.000000   \n",
       "75%         3.100000     19.800000      1.000000      0.500000      3.610000   \n",
       "max    125112.200000    841.600000     10.000000      4.250000    150.000000   \n",
       "std       770.416255     14.958249      1.382446      0.366916      3.159273   \n",
       "\n",
       "       tolls_amount  ehail_fee  improvement_surcharge  total_amount  \\\n",
       "count  57457.000000        0.0           57457.000000  57457.000000   \n",
       "mean       0.192537        NaN               0.979378     22.904832   \n",
       "min        0.000000        NaN              -1.000000   -296.080000   \n",
       "25%        0.000000        NaN               1.000000     13.440000   \n",
       "50%        0.000000        NaN               1.000000     18.500000   \n",
       "75%        0.000000        NaN               1.000000     27.050000   \n",
       "max       26.760000        NaN               1.000000    856.980000   \n",
       "std        1.184551        NaN               0.154253     17.013735   \n",
       "\n",
       "       payment_type     trip_type  congestion_surcharge  \n",
       "count  55360.000000  55353.000000          55360.000000  \n",
       "mean       1.321062      1.038047              0.737730  \n",
       "min        1.000000      1.000000             -2.750000  \n",
       "25%        1.000000      1.000000              0.000000  \n",
       "50%        1.000000      1.000000              0.000000  \n",
       "75%        2.000000      1.000000              2.750000  \n",
       "max        5.000000      2.000000              2.750000  \n",
       "std        0.497858      0.191311              1.218039  "
      ]
     },
     "execution_count": 8,
     "metadata": {},
     "output_type": "execute_result"
    }
   ],
   "source": [
    "march_data.describe()"
   ]
  },
  {
   "cell_type": "code",
   "execution_count": 9,
   "id": "66f5270b-81da-4db9-a780-d1eab0556ca7",
   "metadata": {},
   "outputs": [
    {
     "name": "stdout",
     "output_type": "stream",
     "text": [
      "<class 'pandas.core.frame.DataFrame'>\n",
      "RangeIndex: 57457 entries, 0 to 57456\n",
      "Data columns (total 20 columns):\n",
      " #   Column                 Non-Null Count  Dtype         \n",
      "---  ------                 --------------  -----         \n",
      " 0   VendorID               57457 non-null  int32         \n",
      " 1   lpep_pickup_datetime   57457 non-null  datetime64[us]\n",
      " 2   lpep_dropoff_datetime  57457 non-null  datetime64[us]\n",
      " 3   store_and_fwd_flag     55360 non-null  object        \n",
      " 4   RatecodeID             55360 non-null  float64       \n",
      " 5   PULocationID           57457 non-null  int32         \n",
      " 6   DOLocationID           57457 non-null  int32         \n",
      " 7   passenger_count        55360 non-null  float64       \n",
      " 8   trip_distance          57457 non-null  float64       \n",
      " 9   fare_amount            57457 non-null  float64       \n",
      " 10  extra                  57457 non-null  float64       \n",
      " 11  mta_tax                57457 non-null  float64       \n",
      " 12  tip_amount             57457 non-null  float64       \n",
      " 13  tolls_amount           57457 non-null  float64       \n",
      " 14  ehail_fee              0 non-null      float64       \n",
      " 15  improvement_surcharge  57457 non-null  float64       \n",
      " 16  total_amount           57457 non-null  float64       \n",
      " 17  payment_type           55360 non-null  float64       \n",
      " 18  trip_type              55353 non-null  float64       \n",
      " 19  congestion_surcharge   55360 non-null  float64       \n",
      "dtypes: datetime64[us](2), float64(14), int32(3), object(1)\n",
      "memory usage: 8.1+ MB\n"
     ]
    }
   ],
   "source": [
    "march_data.info()"
   ]
  },
  {
   "cell_type": "code",
   "execution_count": 10,
   "id": "e96f5c87-ed15-4e95-abb6-28bd529da688",
   "metadata": {},
   "outputs": [
    {
     "data": {
      "text/plain": [
       "(57457, 20)"
      ]
     },
     "execution_count": 10,
     "metadata": {},
     "output_type": "execute_result"
    }
   ],
   "source": [
    "march_data.shape"
   ]
  },
  {
   "cell_type": "code",
   "execution_count": 7,
   "id": "e958c4ba-b4f9-4454-a02a-c9e921608c90",
   "metadata": {},
   "outputs": [],
   "source": [
    "with open('models/lin_reg.bin', 'rb') as f_out:\n",
    "    model = load(f_out)"
   ]
  },
  {
   "cell_type": "code",
   "execution_count": 8,
   "id": "aeac1103-8ef9-49d2-b600-0bd139e1824f",
   "metadata": {},
   "outputs": [],
   "source": [
    "# create target\n",
    "march_data[\"duration_min\"] = march_data.lpep_dropoff_datetime - march_data.lpep_pickup_datetime\n",
    "march_data.duration_min = march_data.duration_min.apply(lambda td : float(td.total_seconds())/60)"
   ]
  },
  {
   "cell_type": "code",
   "execution_count": 11,
   "id": "0e042441-1313-4397-9515-d42cdeea71cc",
   "metadata": {},
   "outputs": [],
   "source": [
    "# data labeling\n",
    "target = \"duration_min\"\n",
    "num_features = [\"passenger_count\", \"trip_distance\", \"fare_amount\", \"total_amount\"]\n",
    "cat_features = [\"PULocationID\", \"DOLocationID\"]"
   ]
  },
  {
   "cell_type": "code",
   "execution_count": 10,
   "id": "04a40a07-06df-494c-b8db-7ea6cf3e16e6",
   "metadata": {},
   "outputs": [
    {
     "ename": "ValueError",
     "evalue": "Input X contains NaN.\nLinearRegression does not accept missing values encoded as NaN natively. For supervised learning, you might want to consider sklearn.ensemble.HistGradientBoostingClassifier and Regressor which accept missing values encoded as NaNs natively. Alternatively, it is possible to preprocess the data, for instance by using an imputer transformer in a pipeline or drop samples with missing values. See https://scikit-learn.org/stable/modules/impute.html You can find a list of all estimators that handle NaN values at the following page: https://scikit-learn.org/stable/modules/impute.html#estimators-that-handle-nan-values",
     "output_type": "error",
     "traceback": [
      "\u001b[0;31m---------------------------------------------------------------------------\u001b[0m",
      "\u001b[0;31mValueError\u001b[0m                                Traceback (most recent call last)",
      "Cell \u001b[0;32mIn[10], line 1\u001b[0m\n\u001b[0;32m----> 1\u001b[0m march_preds \u001b[38;5;241m=\u001b[39m \u001b[43mmodel\u001b[49m\u001b[38;5;241;43m.\u001b[39;49m\u001b[43mpredict\u001b[49m\u001b[43m(\u001b[49m\u001b[43mmarch_data\u001b[49m\u001b[43m[\u001b[49m\u001b[43mnum_features\u001b[49m\u001b[43m \u001b[49m\u001b[38;5;241;43m+\u001b[39;49m\u001b[43m \u001b[49m\u001b[43mcat_features\u001b[49m\u001b[43m]\u001b[49m\u001b[43m)\u001b[49m\n\u001b[1;32m      2\u001b[0m march_data[\u001b[38;5;124m'\u001b[39m\u001b[38;5;124mprediction\u001b[39m\u001b[38;5;124m'\u001b[39m] \u001b[38;5;241m=\u001b[39m march_preds\n",
      "File \u001b[0;32m~/mlops-zoomcamp/05-monitoring/venv/lib/python3.11/site-packages/sklearn/linear_model/_base.py:306\u001b[0m, in \u001b[0;36mLinearModel.predict\u001b[0;34m(self, X)\u001b[0m\n\u001b[1;32m    292\u001b[0m \u001b[38;5;28;01mdef\u001b[39;00m \u001b[38;5;21mpredict\u001b[39m(\u001b[38;5;28mself\u001b[39m, X):\n\u001b[1;32m    293\u001b[0m \u001b[38;5;250m    \u001b[39m\u001b[38;5;124;03m\"\"\"\u001b[39;00m\n\u001b[1;32m    294\u001b[0m \u001b[38;5;124;03m    Predict using the linear model.\u001b[39;00m\n\u001b[1;32m    295\u001b[0m \n\u001b[0;32m   (...)\u001b[0m\n\u001b[1;32m    304\u001b[0m \u001b[38;5;124;03m        Returns predicted values.\u001b[39;00m\n\u001b[1;32m    305\u001b[0m \u001b[38;5;124;03m    \"\"\"\u001b[39;00m\n\u001b[0;32m--> 306\u001b[0m     \u001b[38;5;28;01mreturn\u001b[39;00m \u001b[38;5;28;43mself\u001b[39;49m\u001b[38;5;241;43m.\u001b[39;49m\u001b[43m_decision_function\u001b[49m\u001b[43m(\u001b[49m\u001b[43mX\u001b[49m\u001b[43m)\u001b[49m\n",
      "File \u001b[0;32m~/mlops-zoomcamp/05-monitoring/venv/lib/python3.11/site-packages/sklearn/linear_model/_base.py:285\u001b[0m, in \u001b[0;36mLinearModel._decision_function\u001b[0;34m(self, X)\u001b[0m\n\u001b[1;32m    282\u001b[0m \u001b[38;5;28;01mdef\u001b[39;00m \u001b[38;5;21m_decision_function\u001b[39m(\u001b[38;5;28mself\u001b[39m, X):\n\u001b[1;32m    283\u001b[0m     check_is_fitted(\u001b[38;5;28mself\u001b[39m)\n\u001b[0;32m--> 285\u001b[0m     X \u001b[38;5;241m=\u001b[39m \u001b[38;5;28;43mself\u001b[39;49m\u001b[38;5;241;43m.\u001b[39;49m\u001b[43m_validate_data\u001b[49m\u001b[43m(\u001b[49m\u001b[43mX\u001b[49m\u001b[43m,\u001b[49m\u001b[43m \u001b[49m\u001b[43maccept_sparse\u001b[49m\u001b[38;5;241;43m=\u001b[39;49m\u001b[43m[\u001b[49m\u001b[38;5;124;43m\"\u001b[39;49m\u001b[38;5;124;43mcsr\u001b[39;49m\u001b[38;5;124;43m\"\u001b[39;49m\u001b[43m,\u001b[49m\u001b[43m \u001b[49m\u001b[38;5;124;43m\"\u001b[39;49m\u001b[38;5;124;43mcsc\u001b[39;49m\u001b[38;5;124;43m\"\u001b[39;49m\u001b[43m,\u001b[49m\u001b[43m \u001b[49m\u001b[38;5;124;43m\"\u001b[39;49m\u001b[38;5;124;43mcoo\u001b[39;49m\u001b[38;5;124;43m\"\u001b[39;49m\u001b[43m]\u001b[49m\u001b[43m,\u001b[49m\u001b[43m \u001b[49m\u001b[43mreset\u001b[49m\u001b[38;5;241;43m=\u001b[39;49m\u001b[38;5;28;43;01mFalse\u001b[39;49;00m\u001b[43m)\u001b[49m\n\u001b[1;32m    286\u001b[0m     coef_ \u001b[38;5;241m=\u001b[39m \u001b[38;5;28mself\u001b[39m\u001b[38;5;241m.\u001b[39mcoef_\n\u001b[1;32m    287\u001b[0m     \u001b[38;5;28;01mif\u001b[39;00m coef_\u001b[38;5;241m.\u001b[39mndim \u001b[38;5;241m==\u001b[39m \u001b[38;5;241m1\u001b[39m:\n",
      "File \u001b[0;32m~/mlops-zoomcamp/05-monitoring/venv/lib/python3.11/site-packages/sklearn/base.py:633\u001b[0m, in \u001b[0;36mBaseEstimator._validate_data\u001b[0;34m(self, X, y, reset, validate_separately, cast_to_ndarray, **check_params)\u001b[0m\n\u001b[1;32m    631\u001b[0m         out \u001b[38;5;241m=\u001b[39m X, y\n\u001b[1;32m    632\u001b[0m \u001b[38;5;28;01melif\u001b[39;00m \u001b[38;5;129;01mnot\u001b[39;00m no_val_X \u001b[38;5;129;01mand\u001b[39;00m no_val_y:\n\u001b[0;32m--> 633\u001b[0m     out \u001b[38;5;241m=\u001b[39m \u001b[43mcheck_array\u001b[49m\u001b[43m(\u001b[49m\u001b[43mX\u001b[49m\u001b[43m,\u001b[49m\u001b[43m \u001b[49m\u001b[43minput_name\u001b[49m\u001b[38;5;241;43m=\u001b[39;49m\u001b[38;5;124;43m\"\u001b[39;49m\u001b[38;5;124;43mX\u001b[39;49m\u001b[38;5;124;43m\"\u001b[39;49m\u001b[43m,\u001b[49m\u001b[43m \u001b[49m\u001b[38;5;241;43m*\u001b[39;49m\u001b[38;5;241;43m*\u001b[39;49m\u001b[43mcheck_params\u001b[49m\u001b[43m)\u001b[49m\n\u001b[1;32m    634\u001b[0m \u001b[38;5;28;01melif\u001b[39;00m no_val_X \u001b[38;5;129;01mand\u001b[39;00m \u001b[38;5;129;01mnot\u001b[39;00m no_val_y:\n\u001b[1;32m    635\u001b[0m     out \u001b[38;5;241m=\u001b[39m _check_y(y, \u001b[38;5;241m*\u001b[39m\u001b[38;5;241m*\u001b[39mcheck_params)\n",
      "File \u001b[0;32m~/mlops-zoomcamp/05-monitoring/venv/lib/python3.11/site-packages/sklearn/utils/validation.py:1059\u001b[0m, in \u001b[0;36mcheck_array\u001b[0;34m(array, accept_sparse, accept_large_sparse, dtype, order, copy, force_all_finite, ensure_2d, allow_nd, ensure_min_samples, ensure_min_features, estimator, input_name)\u001b[0m\n\u001b[1;32m   1053\u001b[0m     \u001b[38;5;28;01mraise\u001b[39;00m \u001b[38;5;167;01mValueError\u001b[39;00m(\n\u001b[1;32m   1054\u001b[0m         \u001b[38;5;124m\"\u001b[39m\u001b[38;5;124mFound array with dim \u001b[39m\u001b[38;5;132;01m%d\u001b[39;00m\u001b[38;5;124m. \u001b[39m\u001b[38;5;132;01m%s\u001b[39;00m\u001b[38;5;124m expected <= 2.\u001b[39m\u001b[38;5;124m\"\u001b[39m\n\u001b[1;32m   1055\u001b[0m         \u001b[38;5;241m%\u001b[39m (array\u001b[38;5;241m.\u001b[39mndim, estimator_name)\n\u001b[1;32m   1056\u001b[0m     )\n\u001b[1;32m   1058\u001b[0m \u001b[38;5;28;01mif\u001b[39;00m force_all_finite:\n\u001b[0;32m-> 1059\u001b[0m     \u001b[43m_assert_all_finite\u001b[49m\u001b[43m(\u001b[49m\n\u001b[1;32m   1060\u001b[0m \u001b[43m        \u001b[49m\u001b[43marray\u001b[49m\u001b[43m,\u001b[49m\n\u001b[1;32m   1061\u001b[0m \u001b[43m        \u001b[49m\u001b[43minput_name\u001b[49m\u001b[38;5;241;43m=\u001b[39;49m\u001b[43minput_name\u001b[49m\u001b[43m,\u001b[49m\n\u001b[1;32m   1062\u001b[0m \u001b[43m        \u001b[49m\u001b[43mestimator_name\u001b[49m\u001b[38;5;241;43m=\u001b[39;49m\u001b[43mestimator_name\u001b[49m\u001b[43m,\u001b[49m\n\u001b[1;32m   1063\u001b[0m \u001b[43m        \u001b[49m\u001b[43mallow_nan\u001b[49m\u001b[38;5;241;43m=\u001b[39;49m\u001b[43mforce_all_finite\u001b[49m\u001b[43m \u001b[49m\u001b[38;5;241;43m==\u001b[39;49m\u001b[43m \u001b[49m\u001b[38;5;124;43m\"\u001b[39;49m\u001b[38;5;124;43mallow-nan\u001b[39;49m\u001b[38;5;124;43m\"\u001b[39;49m\u001b[43m,\u001b[49m\n\u001b[1;32m   1064\u001b[0m \u001b[43m    \u001b[49m\u001b[43m)\u001b[49m\n\u001b[1;32m   1066\u001b[0m \u001b[38;5;28;01mif\u001b[39;00m copy:\n\u001b[1;32m   1067\u001b[0m     \u001b[38;5;28;01mif\u001b[39;00m _is_numpy_namespace(xp):\n\u001b[1;32m   1068\u001b[0m         \u001b[38;5;66;03m# only make a copy if `array` and `array_orig` may share memory`\u001b[39;00m\n",
      "File \u001b[0;32m~/mlops-zoomcamp/05-monitoring/venv/lib/python3.11/site-packages/sklearn/utils/validation.py:126\u001b[0m, in \u001b[0;36m_assert_all_finite\u001b[0;34m(X, allow_nan, msg_dtype, estimator_name, input_name)\u001b[0m\n\u001b[1;32m    123\u001b[0m \u001b[38;5;28;01mif\u001b[39;00m first_pass_isfinite:\n\u001b[1;32m    124\u001b[0m     \u001b[38;5;28;01mreturn\u001b[39;00m\n\u001b[0;32m--> 126\u001b[0m \u001b[43m_assert_all_finite_element_wise\u001b[49m\u001b[43m(\u001b[49m\n\u001b[1;32m    127\u001b[0m \u001b[43m    \u001b[49m\u001b[43mX\u001b[49m\u001b[43m,\u001b[49m\n\u001b[1;32m    128\u001b[0m \u001b[43m    \u001b[49m\u001b[43mxp\u001b[49m\u001b[38;5;241;43m=\u001b[39;49m\u001b[43mxp\u001b[49m\u001b[43m,\u001b[49m\n\u001b[1;32m    129\u001b[0m \u001b[43m    \u001b[49m\u001b[43mallow_nan\u001b[49m\u001b[38;5;241;43m=\u001b[39;49m\u001b[43mallow_nan\u001b[49m\u001b[43m,\u001b[49m\n\u001b[1;32m    130\u001b[0m \u001b[43m    \u001b[49m\u001b[43mmsg_dtype\u001b[49m\u001b[38;5;241;43m=\u001b[39;49m\u001b[43mmsg_dtype\u001b[49m\u001b[43m,\u001b[49m\n\u001b[1;32m    131\u001b[0m \u001b[43m    \u001b[49m\u001b[43mestimator_name\u001b[49m\u001b[38;5;241;43m=\u001b[39;49m\u001b[43mestimator_name\u001b[49m\u001b[43m,\u001b[49m\n\u001b[1;32m    132\u001b[0m \u001b[43m    \u001b[49m\u001b[43minput_name\u001b[49m\u001b[38;5;241;43m=\u001b[39;49m\u001b[43minput_name\u001b[49m\u001b[43m,\u001b[49m\n\u001b[1;32m    133\u001b[0m \u001b[43m\u001b[49m\u001b[43m)\u001b[49m\n",
      "File \u001b[0;32m~/mlops-zoomcamp/05-monitoring/venv/lib/python3.11/site-packages/sklearn/utils/validation.py:175\u001b[0m, in \u001b[0;36m_assert_all_finite_element_wise\u001b[0;34m(X, xp, allow_nan, msg_dtype, estimator_name, input_name)\u001b[0m\n\u001b[1;32m    158\u001b[0m \u001b[38;5;28;01mif\u001b[39;00m estimator_name \u001b[38;5;129;01mand\u001b[39;00m input_name \u001b[38;5;241m==\u001b[39m \u001b[38;5;124m\"\u001b[39m\u001b[38;5;124mX\u001b[39m\u001b[38;5;124m\"\u001b[39m \u001b[38;5;129;01mand\u001b[39;00m has_nan_error:\n\u001b[1;32m    159\u001b[0m     \u001b[38;5;66;03m# Improve the error message on how to handle missing values in\u001b[39;00m\n\u001b[1;32m    160\u001b[0m     \u001b[38;5;66;03m# scikit-learn.\u001b[39;00m\n\u001b[1;32m    161\u001b[0m     msg_err \u001b[38;5;241m+\u001b[39m\u001b[38;5;241m=\u001b[39m (\n\u001b[1;32m    162\u001b[0m         \u001b[38;5;124mf\u001b[39m\u001b[38;5;124m\"\u001b[39m\u001b[38;5;130;01m\\n\u001b[39;00m\u001b[38;5;132;01m{\u001b[39;00mestimator_name\u001b[38;5;132;01m}\u001b[39;00m\u001b[38;5;124m does not accept missing values\u001b[39m\u001b[38;5;124m\"\u001b[39m\n\u001b[1;32m    163\u001b[0m         \u001b[38;5;124m\"\u001b[39m\u001b[38;5;124m encoded as NaN natively. For supervised learning, you might want\u001b[39m\u001b[38;5;124m\"\u001b[39m\n\u001b[0;32m   (...)\u001b[0m\n\u001b[1;32m    173\u001b[0m         \u001b[38;5;124m\"\u001b[39m\u001b[38;5;124m#estimators-that-handle-nan-values\u001b[39m\u001b[38;5;124m\"\u001b[39m\n\u001b[1;32m    174\u001b[0m     )\n\u001b[0;32m--> 175\u001b[0m \u001b[38;5;28;01mraise\u001b[39;00m \u001b[38;5;167;01mValueError\u001b[39;00m(msg_err)\n",
      "\u001b[0;31mValueError\u001b[0m: Input X contains NaN.\nLinearRegression does not accept missing values encoded as NaN natively. For supervised learning, you might want to consider sklearn.ensemble.HistGradientBoostingClassifier and Regressor which accept missing values encoded as NaNs natively. Alternatively, it is possible to preprocess the data, for instance by using an imputer transformer in a pipeline or drop samples with missing values. See https://scikit-learn.org/stable/modules/impute.html You can find a list of all estimators that handle NaN values at the following page: https://scikit-learn.org/stable/modules/impute.html#estimators-that-handle-nan-values"
     ]
    }
   ],
   "source": [
    "################ NO ################\n",
    "march_preds = model.predict(march_data[num_features + cat_features])\n",
    "march_data['prediction'] = march_preds"
   ]
  },
  {
   "cell_type": "code",
   "execution_count": 12,
   "id": "6b8c2b2c-31a8-4ff2-95ad-ccb8a1ede206",
   "metadata": {},
   "outputs": [],
   "source": [
    "column_mapping = ColumnMapping(\n",
    "    target=None,\n",
    "    prediction='prediction',\n",
    "    numerical_features=num_features,\n",
    "    categorical_features=cat_features\n",
    ")"
   ]
  },
  {
   "cell_type": "markdown",
   "id": "0017f73e-9506-4663-82cb-3c0ee3537540",
   "metadata": {},
   "source": [
    "# Evidently Dashboard"
   ]
  },
  {
   "cell_type": "code",
   "execution_count": 13,
   "id": "51889f62-c277-4309-8863-efed6c81134a",
   "metadata": {},
   "outputs": [],
   "source": [
    "from evidently.metric_preset import DataDriftPreset, DataQualityPreset\n",
    "\n",
    "from evidently.ui.workspace import Workspace\n",
    "from evidently.ui.dashboards import DashboardPanelCounter, DashboardPanelPlot, CounterAgg, PanelValue, PlotType, ReportFilter\n",
    "from evidently.renderers.html_widgets import WidgetSize"
   ]
  },
  {
   "cell_type": "markdown",
   "id": "95815add-c6aa-42ee-b684-abc3e2f9321b",
   "metadata": {},
   "source": [
    "Create a workspace and a project"
   ]
  },
  {
   "cell_type": "code",
   "execution_count": 14,
   "id": "286ed86f-b3e3-4844-ac44-2b6868a4b609",
   "metadata": {},
   "outputs": [],
   "source": [
    "ws = Workspace(\"workspace\")"
   ]
  },
  {
   "cell_type": "code",
   "execution_count": 15,
   "id": "a65e8d51-50ad-4fe4-8891-d1ebc2f5e4fe",
   "metadata": {},
   "outputs": [
    {
     "data": {
      "text/plain": [
       "Project(id=UUID('f8b1a3fb-5890-41ac-9dbd-58a47e7e9f36'), name='NYC Taxi March 2024 Evaluation Reports', description='My project Fare Amount measure', dashboard=DashboardConfig(name='NYC Taxi March 2024 Evaluation Reports', panels=[], tabs=[], tab_id_to_panel_ids={}), team_id=None, date_from=None, date_to=None, created_at=datetime.datetime(2024, 6, 23, 9, 1, 33, 639690))"
      ]
     },
     "execution_count": 15,
     "metadata": {},
     "output_type": "execute_result"
    }
   ],
   "source": [
    "project = ws.create_project(\"NYC Taxi March 2024 Evaluation Reports\")\n",
    "project.description = \"My project Fare Amount measure\"\n",
    "project.save()"
   ]
  },
  {
   "cell_type": "markdown",
   "id": "7fe8977a-d869-465b-aff0-d1dfc4b09562",
   "metadata": {},
   "source": [
    "We run a report for every day between start and end date"
   ]
  },
  {
   "cell_type": "code",
   "execution_count": 16,
   "id": "3c093536-9521-4134-a6aa-aef91df6d36e",
   "metadata": {},
   "outputs": [],
   "source": [
    "def add_report(metrics, column_mapping, curr_data, ref_data, start_date, end_date, project_id, ws):\n",
    "    # Generate tuples with start and end date for every day in \n",
    "    dates = [ (start_date + datetime.timedelta(n), start_date + datetime.timedelta(n+1))  \n",
    "             for n in range(int((end_date - start_date).days))]\n",
    "    for start,end in dates:\n",
    "        # DEfine the report\n",
    "        regular_report = Report(\n",
    "            metrics=metrics,\n",
    "            timestamp=start\n",
    "        )\n",
    "        #curr_data_filtered= curr_data.lpep_pickup_datetime.between(pd.Timestamp(start),pd.Timestamp(end), inclusive=\"left\")\n",
    "        curr_data_filtered= curr_data.lpep_pickup_datetime.between(start.strftime('%Y-%m-%d'),end.strftime('%Y-%m-%d'), inclusive=\"left\")\n",
    "        if curr_data_filtered.any():\n",
    "            # run the report\n",
    "            regular_report.run(reference_data=ref_data,\n",
    "                            current_data=curr_data.loc[curr_data.lpep_pickup_datetime.between(start.strftime('%Y-%m-%d'),end.strftime('%Y-%m-%d'), \n",
    "                                                                                             inclusive=\"left\")],\n",
    "                            column_mapping=column_mapping)\n",
    "    \n",
    "            # Add the report to the workspace\n",
    "            ws.add_report(project_id, regular_report)\n",
    "            #print(\"Report executed\")\n",
    "        else:\n",
    "           regular_report=None \n",
    "\n",
    "    return regular_report\n",
    "        "
   ]
  },
  {
   "cell_type": "code",
   "execution_count": 17,
   "id": "bad0e3d4-8134-4678-b703-98ef8630bc5a",
   "metadata": {},
   "outputs": [
    {
     "name": "stdout",
     "output_type": "stream",
     "text": [
      "<class 'pandas.core.frame.DataFrame'>\n",
      "RangeIndex: 57457 entries, 0 to 57456\n",
      "Data columns (total 20 columns):\n",
      " #   Column                 Non-Null Count  Dtype         \n",
      "---  ------                 --------------  -----         \n",
      " 0   VendorID               57457 non-null  int32         \n",
      " 1   lpep_pickup_datetime   57457 non-null  datetime64[us]\n",
      " 2   lpep_dropoff_datetime  57457 non-null  datetime64[us]\n",
      " 3   store_and_fwd_flag     55360 non-null  object        \n",
      " 4   RatecodeID             55360 non-null  float64       \n",
      " 5   PULocationID           57457 non-null  int32         \n",
      " 6   DOLocationID           57457 non-null  int32         \n",
      " 7   passenger_count        55360 non-null  float64       \n",
      " 8   trip_distance          57457 non-null  float64       \n",
      " 9   fare_amount            57457 non-null  float64       \n",
      " 10  extra                  57457 non-null  float64       \n",
      " 11  mta_tax                57457 non-null  float64       \n",
      " 12  tip_amount             57457 non-null  float64       \n",
      " 13  tolls_amount           57457 non-null  float64       \n",
      " 14  ehail_fee              0 non-null      float64       \n",
      " 15  improvement_surcharge  57457 non-null  float64       \n",
      " 16  total_amount           57457 non-null  float64       \n",
      " 17  payment_type           55360 non-null  float64       \n",
      " 18  trip_type              55353 non-null  float64       \n",
      " 19  congestion_surcharge   55360 non-null  float64       \n",
      "dtypes: datetime64[us](2), float64(14), int32(3), object(1)\n",
      "memory usage: 8.1+ MB\n"
     ]
    }
   ],
   "source": [
    "march_data.info()"
   ]
  },
  {
   "cell_type": "code",
   "execution_count": null,
   "id": "be7b047f-8ac2-4d95-909a-8a5baaaaf9bb",
   "metadata": {},
   "outputs": [],
   "source": [
    "metrics=[\n",
    "        DataQualityPreset(),\n",
    "        ColumnQuantileMetric(column_name='fare_amount', quantile=0.5),\n",
    "]\n",
    "curr_data=march_data\n",
    "ref_data=None\n",
    "start_date = datetime.datetime(2024, 3, 1)\n",
    "end_date   = datetime.datetime(2024, 3, 31)\n",
    "project_id= project.id\n",
    "\n",
    "result_test = add_report(metrics, column_mapping, curr_data, ref_data, start_date, end_date, project_id, ws)"
   ]
  },
  {
   "cell_type": "code",
   "execution_count": 19,
   "id": "8239dc35-461a-4f0d-ab03-01a24dcc3dd2",
   "metadata": {},
   "outputs": [
    {
     "data": {
      "text/plain": [
       "Project(id=UUID('f8b1a3fb-5890-41ac-9dbd-58a47e7e9f36'), name='NYC Taxi March 2024 Evaluation Reports', description='My project Fare Amount measure', dashboard=DashboardConfig(name='NYC Taxi March 2024 Evaluation Reports', panels=[], tabs=[], tab_id_to_panel_ids={}), team_id=None, date_from=None, date_to=None, created_at=datetime.datetime(2024, 6, 23, 9, 1, 33, 639690))"
      ]
     },
     "execution_count": 19,
     "metadata": {},
     "output_type": "execute_result"
    }
   ],
   "source": [
    "project.save()"
   ]
  },
  {
   "cell_type": "code",
   "execution_count": null,
   "id": "a845cf30-815b-43c6-9641-0c7dd9d7d2c0",
   "metadata": {},
   "outputs": [],
   "source": [
    "result = result_test.as_dict()\n",
    "result"
   ]
  },
  {
   "cell_type": "markdown",
   "id": "ae6fe834-a51b-4715-9203-21f6bc9ac3d1",
   "metadata": {},
   "source": [
    "### Define the dashboard"
   ]
  },
  {
   "cell_type": "code",
   "execution_count": 21,
   "id": "f77f0f0d-1498-4914-9dba-c8df63e3feae",
   "metadata": {},
   "outputs": [],
   "source": [
    "#configure the dashboard\n",
    "project.dashboard.add_panel(\n",
    "    DashboardPanelCounter(\n",
    "        filter=ReportFilter(metadata_values={}, tag_values=[]),\n",
    "        agg=CounterAgg.NONE,\n",
    "        title=\"NYC taxi March 2024 Dashboard\"\n",
    "    )\n",
    ")\n",
    "\n",
    "project.dashboard.add_panel(\n",
    "    DashboardPanelPlot(\n",
    "        filter=ReportFilter(metadata_values={}, tag_values=[]),\n",
    "        title=\"Fare Amount Quantile Count\",\n",
    "        values=[\n",
    "            PanelValue(\n",
    "                metric_id=\"ColumnQuantileMetric\",\n",
    "                field_path=\"current.value\",\n",
    "                legend=\"count\"\n",
    "            ),\n",
    "        ],\n",
    "        plot_type=PlotType.BAR,\n",
    "        size=WidgetSize.HALF,\n",
    "    ),\n",
    ")"
   ]
  },
  {
   "cell_type": "code",
   "execution_count": 22,
   "id": "2951ac82-70b7-41ff-9d28-f8ee2fc374a8",
   "metadata": {},
   "outputs": [
    {
     "data": {
      "text/plain": [
       "Project(id=UUID('f8b1a3fb-5890-41ac-9dbd-58a47e7e9f36'), name='NYC Taxi March 2024 Evaluation Reports', description='My project Fare Amount measure', dashboard=DashboardConfig(name='NYC Taxi March 2024 Evaluation Reports', panels=[DashboardPanelCounter(type='evidently.ui.dashboards.reports.DashboardPanelCounter', id=UUID('6bbe91d0-5b96-4c64-8314-9ed57d56aeda'), title='NYC taxi March 2024 Dashboard', filter=ReportFilter(metadata_values={}, tag_values=[], include_test_suites=False), size=<WidgetSize.FULL: 2>, agg=<CounterAgg.NONE: 'none'>, value=None, text=None), DashboardPanelPlot(type='evidently.ui.dashboards.reports.DashboardPanelPlot', id=UUID('3b91ab70-4873-49d1-afc4-4c00ef381526'), title='Fare Amount Quantile Count', filter=ReportFilter(metadata_values={}, tag_values=[], include_test_suites=False), size=<WidgetSize.HALF: 1>, values=[PanelValue(field_path='current.value', metric_id='ColumnQuantileMetric', metric_fingerprint=None, metric_args={}, legend='count')], plot_type=<PlotType.BAR: 'bar'>)], tabs=[], tab_id_to_panel_ids={}), team_id=None, date_from=None, date_to=None, created_at=datetime.datetime(2024, 6, 23, 9, 1, 33, 639690))"
      ]
     },
     "execution_count": 22,
     "metadata": {},
     "output_type": "execute_result"
    }
   ],
   "source": [
    "project.save()"
   ]
  },
  {
   "cell_type": "markdown",
   "id": "b76489ce-eac4-4e4b-855c-68ebce68afd1",
   "metadata": {},
   "source": [
    "run the Evidently ui to check the dashboard and reports"
   ]
  },
  {
   "cell_type": "markdown",
   "id": "76788afe-926c-4e34-a453-8ef65abdba18",
   "metadata": {},
   "source": [
    "`evidently ui`"
   ]
  },
  {
   "cell_type": "markdown",
   "id": "3314e815-e03b-45e7-9b9f-e05cb5a6ce50",
   "metadata": {},
   "source": [
    "### Adding more panels to the dashboard"
   ]
  },
  {
   "cell_type": "code",
   "execution_count": 23,
   "id": "42c543af-9ccc-4108-bb78-c2d0abd30003",
   "metadata": {},
   "outputs": [],
   "source": [
    "\n",
    "project.dashboard.add_panel(\n",
    "    DashboardPanelPlot(\n",
    "        filter=ReportFilter(metadata_values={}, tag_values=[]),\n",
    "        title=\"Inference Count\",\n",
    "        values=[\n",
    "            PanelValue(\n",
    "                metric_id=\"DatasetSummaryMetric\",\n",
    "                field_path=\"current.number_of_rows\",\n",
    "                legend=\"count\"\n",
    "            ),\n",
    "        ],\n",
    "        plot_type=PlotType.BAR,\n",
    "        size=WidgetSize.HALF,\n",
    "    ),\n",
    ")\n",
    "\n",
    "project.dashboard.add_panel(\n",
    "    DashboardPanelPlot(\n",
    "        filter=ReportFilter(metadata_values={}, tag_values=[]),\n",
    "        title=\"Number of Missing Values\",\n",
    "        values=[\n",
    "            PanelValue(\n",
    "                metric_id=\"DatasetSummaryMetric\",\n",
    "                field_path=\"current.number_of_missing_values\",\n",
    "                legend=\"count\"\n",
    "            ),\n",
    "        ],\n",
    "        plot_type=PlotType.LINE,\n",
    "        size=WidgetSize.HALF,\n",
    "    ),\n",
    ")\n"
   ]
  },
  {
   "cell_type": "code",
   "execution_count": 24,
   "id": "35bd155d-35b7-4cea-a151-890c65eaf55a",
   "metadata": {},
   "outputs": [
    {
     "data": {
      "text/plain": [
       "Project(id=UUID('f8b1a3fb-5890-41ac-9dbd-58a47e7e9f36'), name='NYC Taxi March 2024 Evaluation Reports', description='My project Fare Amount measure', dashboard=DashboardConfig(name='NYC Taxi March 2024 Evaluation Reports', panels=[DashboardPanelCounter(type='evidently.ui.dashboards.reports.DashboardPanelCounter', id=UUID('6bbe91d0-5b96-4c64-8314-9ed57d56aeda'), title='NYC taxi March 2024 Dashboard', filter=ReportFilter(metadata_values={}, tag_values=[], include_test_suites=False), size=<WidgetSize.FULL: 2>, agg=<CounterAgg.NONE: 'none'>, value=None, text=None), DashboardPanelPlot(type='evidently.ui.dashboards.reports.DashboardPanelPlot', id=UUID('3b91ab70-4873-49d1-afc4-4c00ef381526'), title='Fare Amount Quantile Count', filter=ReportFilter(metadata_values={}, tag_values=[], include_test_suites=False), size=<WidgetSize.HALF: 1>, values=[PanelValue(field_path='current.value', metric_id='ColumnQuantileMetric', metric_fingerprint=None, metric_args={}, legend='count')], plot_type=<PlotType.BAR: 'bar'>), DashboardPanelPlot(type='evidently.ui.dashboards.reports.DashboardPanelPlot', id=UUID('76a786b9-d0b0-45ad-b327-f1babbfc5a5d'), title='Inference Count', filter=ReportFilter(metadata_values={}, tag_values=[], include_test_suites=False), size=<WidgetSize.HALF: 1>, values=[PanelValue(field_path='current.number_of_rows', metric_id='DatasetSummaryMetric', metric_fingerprint=None, metric_args={}, legend='count')], plot_type=<PlotType.BAR: 'bar'>), DashboardPanelPlot(type='evidently.ui.dashboards.reports.DashboardPanelPlot', id=UUID('75c2dee9-8a4e-421f-8728-46c91ccc73c1'), title='Number of Missing Values', filter=ReportFilter(metadata_values={}, tag_values=[], include_test_suites=False), size=<WidgetSize.HALF: 1>, values=[PanelValue(field_path='current.number_of_missing_values', metric_id='DatasetSummaryMetric', metric_fingerprint=None, metric_args={}, legend='count')], plot_type=<PlotType.LINE: 'line'>)], tabs=[], tab_id_to_panel_ids={}), team_id=None, date_from=None, date_to=None, created_at=datetime.datetime(2024, 6, 23, 9, 1, 33, 639690))"
      ]
     },
     "execution_count": 24,
     "metadata": {},
     "output_type": "execute_result"
    }
   ],
   "source": [
    "project.save()"
   ]
  },
  {
   "cell_type": "code",
   "execution_count": null,
   "id": "08235700-ec56-48d4-9756-2ba53d3ffa12",
   "metadata": {},
   "outputs": [],
   "source": []
  }
 ],
 "metadata": {
  "kernelspec": {
   "display_name": "Python 3 (ipykernel)",
   "language": "python",
   "name": "python3"
  },
  "language_info": {
   "codemirror_mode": {
    "name": "ipython",
    "version": 3
   },
   "file_extension": ".py",
   "mimetype": "text/x-python",
   "name": "python",
   "nbconvert_exporter": "python",
   "pygments_lexer": "ipython3",
   "version": "3.11.7"
  }
 },
 "nbformat": 4,
 "nbformat_minor": 5
}
